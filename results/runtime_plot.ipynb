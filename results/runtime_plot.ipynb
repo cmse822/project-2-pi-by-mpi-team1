{
 "cells": [
  {
   "cell_type": "code",
   "execution_count": 1,
   "id": "2f1a5183",
   "metadata": {},
   "outputs": [],
   "source": [
    "import pandas as pd\n",
    "import numpy as np\n",
    "import matplotlib.pyplot as plt"
   ]
  },
  {
   "cell_type": "code",
   "execution_count": 7,
   "id": "02ebbfdb",
   "metadata": {},
   "outputs": [
    {
     "name": "stdout",
     "output_type": "stream",
     "text": [
      "   nodes   darts  time     pi\n",
      "0      2  1000.0  0.09  3.124\n",
      "1      4  1000.0  0.12  3.060\n",
      "2      8  1000.0  0.16  3.170\n",
      "3     16  1000.0  0.16    NaN\n",
      "4     32  1000.0  0.18    NaN\n"
     ]
    }
   ],
   "source": [
    "df = pd.read_csv(\"data.csv\")\n",
    "print(df.head())"
   ]
  },
  {
   "cell_type": "code",
   "execution_count": 8,
   "id": "118ce657",
   "metadata": {},
   "outputs": [
    {
     "data": {
      "text/html": [
       "<div>\n",
       "<style scoped>\n",
       "    .dataframe tbody tr th:only-of-type {\n",
       "        vertical-align: middle;\n",
       "    }\n",
       "\n",
       "    .dataframe tbody tr th {\n",
       "        vertical-align: top;\n",
       "    }\n",
       "\n",
       "    .dataframe thead tr th {\n",
       "        text-align: left;\n",
       "    }\n",
       "\n",
       "    .dataframe thead tr:last-of-type th {\n",
       "        text-align: right;\n",
       "    }\n",
       "</style>\n",
       "<table border=\"1\" class=\"dataframe\">\n",
       "  <thead>\n",
       "    <tr>\n",
       "      <th></th>\n",
       "      <th colspan=\"17\" halign=\"left\">pi</th>\n",
       "    </tr>\n",
       "    <tr>\n",
       "      <th>time</th>\n",
       "      <th>0.09</th>\n",
       "      <th>0.12</th>\n",
       "      <th colspan=\"2\" halign=\"left\">0.16</th>\n",
       "      <th>0.18</th>\n",
       "      <th>0.23</th>\n",
       "      <th>0.11</th>\n",
       "      <th>0.14</th>\n",
       "      <th>0.17</th>\n",
       "      <th>0.20</th>\n",
       "      <th>0.24</th>\n",
       "      <th>21.37</th>\n",
       "      <th>13.66</th>\n",
       "      <th>6.64</th>\n",
       "      <th>3.41</th>\n",
       "      <th>1.80</th>\n",
       "      <th>1.02</th>\n",
       "    </tr>\n",
       "    <tr>\n",
       "      <th>nodes</th>\n",
       "      <th>2</th>\n",
       "      <th>4</th>\n",
       "      <th>8</th>\n",
       "      <th>16</th>\n",
       "      <th>32</th>\n",
       "      <th>64</th>\n",
       "      <th>2</th>\n",
       "      <th>4</th>\n",
       "      <th>16</th>\n",
       "      <th>32</th>\n",
       "      <th>64</th>\n",
       "      <th>2</th>\n",
       "      <th>4</th>\n",
       "      <th>8</th>\n",
       "      <th>16</th>\n",
       "      <th>32</th>\n",
       "      <th>64</th>\n",
       "    </tr>\n",
       "    <tr>\n",
       "      <th>darts</th>\n",
       "      <th></th>\n",
       "      <th></th>\n",
       "      <th></th>\n",
       "      <th></th>\n",
       "      <th></th>\n",
       "      <th></th>\n",
       "      <th></th>\n",
       "      <th></th>\n",
       "      <th></th>\n",
       "      <th></th>\n",
       "      <th></th>\n",
       "      <th></th>\n",
       "      <th></th>\n",
       "      <th></th>\n",
       "      <th></th>\n",
       "      <th></th>\n",
       "      <th></th>\n",
       "    </tr>\n",
       "  </thead>\n",
       "  <tbody>\n",
       "    <tr>\n",
       "      <th>1.000000e+03</th>\n",
       "      <td>3.124</td>\n",
       "      <td>3.06</td>\n",
       "      <td>3.170000</td>\n",
       "      <td>NaN</td>\n",
       "      <td>NaN</td>\n",
       "      <td>NaN</td>\n",
       "      <td>NaN</td>\n",
       "      <td>NaN</td>\n",
       "      <td>NaN</td>\n",
       "      <td>NaN</td>\n",
       "      <td>NaN</td>\n",
       "      <td>NaN</td>\n",
       "      <td>NaN</td>\n",
       "      <td>NaN</td>\n",
       "      <td>NaN</td>\n",
       "      <td>NaN</td>\n",
       "      <td>NaN</td>\n",
       "    </tr>\n",
       "    <tr>\n",
       "      <th>1.000000e+06</th>\n",
       "      <td>NaN</td>\n",
       "      <td>NaN</td>\n",
       "      <td>3.141456</td>\n",
       "      <td>NaN</td>\n",
       "      <td>NaN</td>\n",
       "      <td>NaN</td>\n",
       "      <td>3.142444</td>\n",
       "      <td>3.140208</td>\n",
       "      <td>3.141988</td>\n",
       "      <td>3.14097</td>\n",
       "      <td>3.144331</td>\n",
       "      <td>NaN</td>\n",
       "      <td>NaN</td>\n",
       "      <td>NaN</td>\n",
       "      <td>NaN</td>\n",
       "      <td>NaN</td>\n",
       "      <td>NaN</td>\n",
       "    </tr>\n",
       "    <tr>\n",
       "      <th>1.000000e+09</th>\n",
       "      <td>NaN</td>\n",
       "      <td>NaN</td>\n",
       "      <td>NaN</td>\n",
       "      <td>NaN</td>\n",
       "      <td>NaN</td>\n",
       "      <td>NaN</td>\n",
       "      <td>NaN</td>\n",
       "      <td>NaN</td>\n",
       "      <td>NaN</td>\n",
       "      <td>NaN</td>\n",
       "      <td>NaN</td>\n",
       "      <td>3.141639</td>\n",
       "      <td>3.14161</td>\n",
       "      <td>3.141628</td>\n",
       "      <td>3.141632</td>\n",
       "      <td>3.141579</td>\n",
       "      <td>3.141566</td>\n",
       "    </tr>\n",
       "  </tbody>\n",
       "</table>\n",
       "</div>"
      ],
      "text/plain": [
       "                 pi                                                      \\\n",
       "time          0.09  0.12      0.16      0.18  0.23      0.11      0.14    \n",
       "nodes            2     4         8   16    32    64        2         4    \n",
       "darts                                                                     \n",
       "1.000000e+03  3.124  3.06  3.170000 NaN   NaN   NaN       NaN       NaN   \n",
       "1.000000e+06    NaN   NaN  3.141456 NaN   NaN   NaN  3.142444  3.140208   \n",
       "1.000000e+09    NaN   NaN       NaN NaN   NaN   NaN       NaN       NaN   \n",
       "\n",
       "                                                                        \\\n",
       "time             0.17     0.20      0.24      21.37    13.66     6.64    \n",
       "nodes               16       32        64        2        4         8    \n",
       "darts                                                                    \n",
       "1.000000e+03       NaN      NaN       NaN       NaN      NaN       NaN   \n",
       "1.000000e+06  3.141988  3.14097  3.144331       NaN      NaN       NaN   \n",
       "1.000000e+09       NaN      NaN       NaN  3.141639  3.14161  3.141628   \n",
       "\n",
       "                                            \n",
       "time             3.41      1.80      1.02   \n",
       "nodes               16        32        64  \n",
       "darts                                       \n",
       "1.000000e+03       NaN       NaN       NaN  \n",
       "1.000000e+06       NaN       NaN       NaN  \n",
       "1.000000e+09  3.141632  3.141579  3.141566  "
      ]
     },
     "execution_count": 8,
     "metadata": {},
     "output_type": "execute_result"
    }
   ],
   "source": [
    "df_dart_index = df.pivot(columns=[\"time\", \"nodes\"], index=\"darts\")\n",
    "df_dart_index"
   ]
  },
  {
   "cell_type": "code",
   "execution_count": 11,
   "id": "018b4dec",
   "metadata": {},
   "outputs": [
    {
     "data": {
      "image/png": "[encoded data removed]",
      "text/plain": [
       "<Figure size 432x288 with 1 Axes>"
      ]
     },
     "metadata": {
      "needs_background": "light"
     },
     "output_type": "display_data"
    }
   ],
   "source": [
    "fig, ax = plt.subplots()\n",
    "for key, grp in df.groupby([\"darts\"]):\n",
    "    grp.plot(ax=ax, label=key, x=\"nodes\", y=\"time\", kind=\"line\", linestyle='None', marker='.')\n",
    "plt.savefig(\"pi_scaling.png\")"
   ]
  },
  {
   "cell_type": "code",
   "execution_count": null,
   "id": "0375bb63",
   "metadata": {},
   "outputs": [],
   "source": []
  }
 ],
 "metadata": {
  "kernelspec": {
   "display_name": "Python 3 (ipykernel)",
   "language": "python",
   "name": "python3"
  },
  "language_info": {
   "codemirror_mode": {
    "name": "ipython",
    "version": 3
   },
   "file_extension": ".py",
   "mimetype": "text/x-python",
   "name": "python",
   "nbconvert_exporter": "python",
   "pygments_lexer": "ipython3",
   "version": "3.9.18"
  }
 },
 "nbformat": 4,
 "nbformat_minor": 5
}
