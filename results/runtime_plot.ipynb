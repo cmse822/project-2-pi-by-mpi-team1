{
 "cells": [
  {
   "cell_type": "code",
   "execution_count": 32,
   "id": "2f1a5183",
   "metadata": {},
   "outputs": [],
   "source": [
    "import pandas as pd\n",
    "import numpy as np\n",
    "import matplotlib.pyplot as plt\n",
    "from scipy.constants import pi\n",
    "from scipy.stats import linregress"
   ]
  },
  {
   "cell_type": "code",
   "execution_count": 42,
   "id": "02ebbfdb",
   "metadata": {},
   "outputs": [
    {
     "name": "stdout",
     "output_type": "stream",
     "text": [
      "   nodes   darts  time       pi     error\n",
      "0      2  1000.0  0.09  3.12400  0.017593\n",
      "1      4  1000.0  0.13  3.06000  0.081593\n",
      "2      8  1000.0  0.16  3.17000  0.028407\n",
      "3     16  1000.0  0.18  3.13750  0.004093\n",
      "4     32  1000.0  0.19  3.13125  0.010343\n"
     ]
    }
   ],
   "source": [
    "df = pd.read_csv(\"data.csv\")\n",
    "df[\"error\"] = np.sqrt((df[\"pi\"] - pi) ** 2)\n",
    "print(df.head())"
   ]
  },
  {
   "cell_type": "code",
   "execution_count": 43,
   "id": "018b4dec",
   "metadata": {},
   "outputs": [
    {
     "data": {
      "image/png": "[encoded data removed]",
      "text/plain": [
       "<Figure size 432x288 with 1 Axes>"
      ]
     },
     "metadata": {
      "needs_background": "light"
     },
     "output_type": "display_data"
    }
   ],
   "source": [
    "fig, ax = plt.subplots()\n",
    "for key, grp in df.groupby(\"darts\"):\n",
    "    grp.plot(ax=ax, label=key, logx=True, logy=True, \\\n",
    "             x=\"nodes\", y=\"time\", kind=\"line\", linestyle='None', marker='.')\n",
    "ax.set_xlabel(\"Nodes\")\n",
    "ax.set_ylabel(\"Wall clock time\")\n",
    "plt.savefig(\"time_scaling.png\")"
   ]
  },
  {
   "cell_type": "code",
   "execution_count": 44,
   "id": "0375bb63",
   "metadata": {},
   "outputs": [
    {
     "data": {
      "image/png": "[encoded data removed]",
      "text/plain": [
       "<Figure size 432x288 with 1 Axes>"
      ]
     },
     "metadata": {
      "needs_background": "light"
     },
     "output_type": "display_data"
    }
   ],
   "source": [
    "fig2, ax2 = plt.subplots()\n",
    "for key, grp in df.groupby([\"nodes\"]):\n",
    "    grp.plot(ax=ax2, logy=True, logx=True, label=key, \\\n",
    "             x=\"darts\", y=\"error\", kind=\"line\", linestyle='None', marker='.')\n",
    "ax2.set_xlabel(\"Darts thrown\")\n",
    "ax2.set_ylabel(\"Error\")\n",
    "plt.savefig(\"error_scaling.png\")"
   ]
  },
  {
   "cell_type": "code",
   "execution_count": 56,
   "id": "f06842f0",
   "metadata": {},
   "outputs": [
    {
     "name": "stdout",
     "output_type": "stream",
     "text": [
      "mean slope = -0.4555267716147096\n",
      "std slope = 0.09486172244259576\n"
     ]
    }
   ],
   "source": [
    "slopes = {}\n",
    "for key, group in df.groupby([\"nodes\"]):\n",
    "    darts = np.log(group.loc[:, \"darts\"])\n",
    "    err = np.log(group.loc[:, \"error\"])\n",
    "    linreg_results = li\n",
    "    ess(darts, err)\n",
    "    slopes[key] = [linreg_results.slope]\n",
    "\n",
    "slope_df = pd.DataFrame.from_dict(slopes, orient=\"index\")\n",
    "slope_df.head()\n",
    "\n",
    "mean_slope = slope_df.mean()\n",
    "std_slope = slope_df.std()\n",
    "print(\"mean slope = {}\".format(mean_slope.loc[0]))\n",
    "print(\"std slope = {}\".format(std_slope.loc[0]))"
   ]
  },
  {
   "cell_type": "code",
   "execution_count": null,
   "id": "284d6de6",
   "metadata": {},
   "outputs": [],
   "source": []
  }
 ],
 "metadata": {
  "kernelspec": {
   "display_name": "Python 3 (ipykernel)",
   "language": "python",
   "name": "python3"
  },
  "language_info": {
   "codemirror_mode": {
    "name": "ipython",
    "version": 3
   },
   "file_extension": ".py",
   "mimetype": "text/x-python",
   "name": "python",
   "nbconvert_exporter": "python",
   "pygments_lexer": "ipython3",
   "version": "3.9.18"
  }
 },
 "nbformat": 4,
 "nbformat_minor": 5
}
