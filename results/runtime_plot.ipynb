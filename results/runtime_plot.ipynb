{
 "cells": [
  {
   "cell_type": "code",
   "execution_count": 2,
   "id": "2f1a5183",
   "metadata": {},
   "outputs": [],
   "source": [
    "import pandas as pd\n",
    "import numpy as np\n",
    "import matplotlib.pyplot as plt"
   ]
  },
  {
   "cell_type": "code",
   "execution_count": 11,
   "id": "02ebbfdb",
   "metadata": {},
   "outputs": [
    {
     "name": "stdout",
     "output_type": "stream",
     "text": [
      "   nodes         darts   time        pi\n",
      "0      3  1.000000e+03   0.14  3.124000\n",
      "1      3  1.000000e+06   0.16  3.142444\n",
      "2      3  1.000000e+09  22.67  3.141639\n",
      "3      2  1.000000e+03   0.08  3.124000\n",
      "4      2  1.000000e+06   0.10  3.142444\n"
     ]
    }
   ],
   "source": [
    "df = pd.read_csv(\"pi_data.csv\")\n",
    "print(df.head())"
   ]
  },
  {
   "cell_type": "code",
   "execution_count": 15,
   "id": "118ce657",
   "metadata": {},
   "outputs": [
    {
     "data": {
      "text/html": [
       "<div>\n",
       "<style scoped>\n",
       "    .dataframe tbody tr th:only-of-type {\n",
       "        vertical-align: middle;\n",
       "    }\n",
       "\n",
       "    .dataframe tbody tr th {\n",
       "        vertical-align: top;\n",
       "    }\n",
       "\n",
       "    .dataframe thead tr th {\n",
       "        text-align: left;\n",
       "    }\n",
       "\n",
       "    .dataframe thead tr:last-of-type th {\n",
       "        text-align: right;\n",
       "    }\n",
       "</style>\n",
       "<table border=\"1\" class=\"dataframe\">\n",
       "  <thead>\n",
       "    <tr>\n",
       "      <th></th>\n",
       "      <th colspan=\"15\" halign=\"left\">pi</th>\n",
       "    </tr>\n",
       "    <tr>\n",
       "      <th>time</th>\n",
       "      <th>0.14</th>\n",
       "      <th>0.16</th>\n",
       "      <th>22.67</th>\n",
       "      <th>0.08</th>\n",
       "      <th>0.10</th>\n",
       "      <th>19.91</th>\n",
       "      <th>0.12</th>\n",
       "      <th>0.14</th>\n",
       "      <th>19.08</th>\n",
       "      <th>0.14</th>\n",
       "      <th>0.18</th>\n",
       "      <th>21.76</th>\n",
       "      <th>0.09</th>\n",
       "      <th>0.11</th>\n",
       "      <th>21.60</th>\n",
       "    </tr>\n",
       "    <tr>\n",
       "      <th>nodes</th>\n",
       "      <th>3</th>\n",
       "      <th>3</th>\n",
       "      <th>3</th>\n",
       "      <th>2</th>\n",
       "      <th>2</th>\n",
       "      <th>2</th>\n",
       "      <th>4</th>\n",
       "      <th>4</th>\n",
       "      <th>4</th>\n",
       "      <th>8</th>\n",
       "      <th>8</th>\n",
       "      <th>8</th>\n",
       "      <th>16</th>\n",
       "      <th>16</th>\n",
       "      <th>16</th>\n",
       "    </tr>\n",
       "    <tr>\n",
       "      <th>darts</th>\n",
       "      <th></th>\n",
       "      <th></th>\n",
       "      <th></th>\n",
       "      <th></th>\n",
       "      <th></th>\n",
       "      <th></th>\n",
       "      <th></th>\n",
       "      <th></th>\n",
       "      <th></th>\n",
       "      <th></th>\n",
       "      <th></th>\n",
       "      <th></th>\n",
       "      <th></th>\n",
       "      <th></th>\n",
       "      <th></th>\n",
       "    </tr>\n",
       "  </thead>\n",
       "  <tbody>\n",
       "    <tr>\n",
       "      <th>1.000000e+03</th>\n",
       "      <td>3.124</td>\n",
       "      <td>NaN</td>\n",
       "      <td>NaN</td>\n",
       "      <td>3.124</td>\n",
       "      <td>NaN</td>\n",
       "      <td>NaN</td>\n",
       "      <td>3.124</td>\n",
       "      <td>NaN</td>\n",
       "      <td>NaN</td>\n",
       "      <td>3.124</td>\n",
       "      <td>NaN</td>\n",
       "      <td>NaN</td>\n",
       "      <td>3.124</td>\n",
       "      <td>NaN</td>\n",
       "      <td>NaN</td>\n",
       "    </tr>\n",
       "    <tr>\n",
       "      <th>1.000000e+06</th>\n",
       "      <td>NaN</td>\n",
       "      <td>3.142444</td>\n",
       "      <td>NaN</td>\n",
       "      <td>NaN</td>\n",
       "      <td>3.142444</td>\n",
       "      <td>NaN</td>\n",
       "      <td>NaN</td>\n",
       "      <td>3.142444</td>\n",
       "      <td>NaN</td>\n",
       "      <td>NaN</td>\n",
       "      <td>3.142444</td>\n",
       "      <td>NaN</td>\n",
       "      <td>NaN</td>\n",
       "      <td>3.142444</td>\n",
       "      <td>NaN</td>\n",
       "    </tr>\n",
       "    <tr>\n",
       "      <th>1.000000e+09</th>\n",
       "      <td>NaN</td>\n",
       "      <td>NaN</td>\n",
       "      <td>3.141639</td>\n",
       "      <td>NaN</td>\n",
       "      <td>NaN</td>\n",
       "      <td>3.141639</td>\n",
       "      <td>NaN</td>\n",
       "      <td>NaN</td>\n",
       "      <td>3.141639</td>\n",
       "      <td>NaN</td>\n",
       "      <td>NaN</td>\n",
       "      <td>3.141639</td>\n",
       "      <td>NaN</td>\n",
       "      <td>NaN</td>\n",
       "      <td>3.141639</td>\n",
       "    </tr>\n",
       "  </tbody>\n",
       "</table>\n",
       "</div>"
      ],
      "text/plain": [
       "                 pi                                                        \\\n",
       "time          0.14      0.16      22.67  0.08      0.10      19.91  0.12    \n",
       "nodes            3         3         3      2         2         2      4    \n",
       "darts                                                                       \n",
       "1.000000e+03  3.124       NaN       NaN  3.124       NaN       NaN  3.124   \n",
       "1.000000e+06    NaN  3.142444       NaN    NaN  3.142444       NaN    NaN   \n",
       "1.000000e+09    NaN       NaN  3.141639    NaN       NaN  3.141639    NaN   \n",
       "\n",
       "                                                                              \\\n",
       "time             0.14      19.08  0.14      0.18      21.76  0.09      0.11    \n",
       "nodes               4         4      8         8         8      16        16   \n",
       "darts                                                                          \n",
       "1.000000e+03       NaN       NaN  3.124       NaN       NaN  3.124       NaN   \n",
       "1.000000e+06  3.142444       NaN    NaN  3.142444       NaN    NaN  3.142444   \n",
       "1.000000e+09       NaN  3.141639    NaN       NaN  3.141639    NaN       NaN   \n",
       "\n",
       "                        \n",
       "time             21.60  \n",
       "nodes               16  \n",
       "darts                   \n",
       "1.000000e+03       NaN  \n",
       "1.000000e+06       NaN  \n",
       "1.000000e+09  3.141639  "
      ]
     },
     "execution_count": 15,
     "metadata": {},
     "output_type": "execute_result"
    }
   ],
   "source": [
    "df_dart_index = df.pivot(columns=[\"time\", \"nodes\"], index=\"darts\")\n",
    "df_dart_index"
   ]
  },
  {
   "cell_type": "code",
   "execution_count": 23,
   "id": "018b4dec",
   "metadata": {},
   "outputs": [
    {
     "data": {
      "image/png": "[encoded data removed]",
      "text/plain": [
       "<Figure size 432x288 with 1 Axes>"
      ]
     },
     "metadata": {
      "needs_background": "light"
     },
     "output_type": "display_data"
    }
   ],
   "source": [
    "fig, ax = plt.subplots()\n",
    "for key, grp in df.groupby([\"darts\"]):\n",
    "    grp.plot(ax=ax, label=key, x=\"nodes\", y=\"time\", kind=\"line\", linestyle='None', marker='.')\n",
    "plt.savefig(\"pi_scaling.png\")"
   ]
  },
  {
   "cell_type": "code",
   "execution_count": null,
   "id": "0375bb63",
   "metadata": {},
   "outputs": [],
   "source": []
  }
 ],
 "metadata": {
  "kernelspec": {
   "display_name": "Python 3 (ipykernel)",
   "language": "python",
   "name": "python3"
  },
  "language_info": {
   "codemirror_mode": {
    "name": "ipython",
    "version": 3
   },
   "file_extension": ".py",
   "mimetype": "text/x-python",
   "name": "python",
   "nbconvert_exporter": "python",
   "pygments_lexer": "ipython3",
   "version": "3.9.18"
  }
 },
 "nbformat": 4,
 "nbformat_minor": 5
}
